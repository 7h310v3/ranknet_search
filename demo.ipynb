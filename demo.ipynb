{
 "cells": [
  {
   "cell_type": "markdown",
   "id": "c16d6634",
   "metadata": {},
   "source": [
    "# RankNet Search Demo\n",
    "\n",
    "This notebook demonstrates the RankNet search engine capabilities, from initialization to searching and evaluation."
   ]
  },
  {
   "cell_type": "code",
   "execution_count": 6,
   "id": "6d4e36d3",
   "metadata": {},
   "outputs": [],
   "source": [
    "# Add parent directory to path\n",
    "import sys\n",
    "import os\n",
    "sys.path.append(os.path.dirname(os.path.dirname(os.path.abspath('.'))))\n",
    "\n",
    "import numpy as np\n",
    "import pandas as pd\n",
    "import matplotlib.pyplot as plt\n",
    "from datetime import datetime\n",
    "\n",
    "# Import our search engine\n",
    "from src.engine import SearchEngine\n",
    "from src.model import Document, Query\n",
    "from src.utils import print_search_results, plot_training_history, plot_feature_importance"
   ]
  },
  {
   "cell_type": "markdown",
   "id": "7748304d",
   "metadata": {},
   "source": [
    "## 1. Initialize Search Engine"
   ]
  },
  {
   "cell_type": "code",
   "execution_count": 7,
   "id": "ae5fd6cd",
   "metadata": {},
   "outputs": [
    {
     "name": "stdout",
     "output_type": "stream",
     "text": [
      "Search engine initialized!\n"
     ]
    }
   ],
   "source": [
    "# Initialize search engine\n",
    "engine = SearchEngine(use_ranknet=True)\n",
    "print(\"Search engine initialized!\")"
   ]
  },
  {
   "cell_type": "markdown",
   "id": "53546d7b",
   "metadata": {},
   "source": [
    "## 2. Load or Create Data"
   ]
  },
  {
   "cell_type": "code",
   "execution_count": 8,
   "id": "c71388d6",
   "metadata": {},
   "outputs": [
    {
     "name": "stdout",
     "output_type": "stream",
     "text": [
      "Đã thêm 6508 tài liệu\n",
      "Đã tải 6508 tài liệu từ data/raw/medium_data.csv\n",
      "Total documents: 6508\n"
     ]
    }
   ],
   "source": [
    "# Option 1: Create sample data\n",
    "# engine.create_sample_data(n_docs=200)\n",
    "\n",
    "# Option 2: Load real data (uncomment to use)\n",
    "engine.load_data('data/raw/medium_data.csv')\n",
    "\n",
    "print(f\"Total documents: {len(engine.documents)}\")"
   ]
  },
  {
   "cell_type": "markdown",
   "id": "db11edf7",
   "metadata": {},
   "source": [
    "## 3. Explore Documents"
   ]
  },
  {
   "cell_type": "code",
   "execution_count": 9,
   "id": "9dfb7adc",
   "metadata": {},
   "outputs": [
    {
     "name": "stdout",
     "output_type": "stream",
     "text": [
      "Document 1:\n",
      "  Title: A Beginner’s Guide to Word Embedding with Gensim Word2Vec Model\n",
      "  Content: ...\n",
      "  Author: Unknown\n",
      "  Tags: []\n",
      "\n",
      "Document 2:\n",
      "  Title: Hands-on Graph Neural Networks with PyTorch & PyTorch Geometric\n",
      "  Content: ...\n",
      "  Author: Unknown\n",
      "  Tags: []\n",
      "\n",
      "Document 3:\n",
      "  Title: How to Use ggplot2 in Python\n",
      "  Content: ...\n",
      "  Author: Unknown\n",
      "  Tags: []\n",
      "\n",
      "Document 4:\n",
      "  Title: Databricks: How to Save Files in CSV on Your Local Computer\n",
      "  Content: ...\n",
      "  Author: Unknown\n",
      "  Tags: []\n",
      "\n",
      "Document 5:\n",
      "  Title: A Step-by-Step Implementation of Gradient Descent and Backpropagation\n",
      "  Content: ...\n",
      "  Author: Unknown\n",
      "  Tags: []\n",
      "\n"
     ]
    }
   ],
   "source": [
    "# Show first 5 documents\n",
    "for i, (doc_id, doc) in enumerate(list(engine.documents.items())[:5]):\n",
    "    print(f\"Document {i+1}:\")\n",
    "    print(f\"  Title: {doc.title}\")\n",
    "    print(f\"  Content: {doc.content[:100]}...\")\n",
    "    print(f\"  Author: {doc.author}\")\n",
    "    print(f\"  Tags: {doc.tags}\")\n",
    "    print(\"\")"
   ]
  },
  {
   "cell_type": "markdown",
   "id": "afb3c0f1",
   "metadata": {},
   "source": [
    "## 4. Basic Search (Before Training)"
   ]
  },
  {
   "cell_type": "code",
   "execution_count": 10,
   "id": "007fe644",
   "metadata": {},
   "outputs": [
    {
     "name": "stdout",
     "output_type": "stream",
     "text": [
      "\n",
      "🔍 Search Results for: 'machine learning tutorial'\n",
      "======================================================================\n",
      "\n",
      "1. Humanizing Machine Learning\n",
      "   📝 ...\n",
      "   👤 Author: Unknown\n",
      "   🔗 URL: https://uxdesign.cc/humanizing-machine-learning-11a64feb21a8\n",
      "   👀 Views: 14,000\n",
      "   ⭐ Score: 0.6052\n",
      "\n",
      "2. 12 Things I Learned During My First Year as a Machine Learning Engineer\n",
      "   📝 ...\n",
      "   👤 Author: Unknown\n",
      "   🔗 URL: https://towardsdatascience.com/12-things-i-learned-during-my-first-year-as-a-machine-learning-engineer-2991573a9195\n",
      "   👀 Views: 80,000\n",
      "   ⭐ Score: 0.5906\n",
      "\n",
      "3. Fundamental Techniques of Feature Engineering for Machine Learning\n",
      "   📝 ...\n",
      "   👤 Author: Unknown\n",
      "   🔗 URL: https://towardsdatascience.com/feature-engineering-for-machine-learning-3a5e293a5114\n",
      "   👀 Views: 35,000\n",
      "   ⭐ Score: 0.5879\n",
      "\n",
      "4. Machine learning interpretability techniques\n",
      "   📝 ...\n",
      "   👤 Author: Unknown\n",
      "   🔗 URL: https://towardsdatascience.com/machine-learning-interpretability-techniques-662c723454f3\n",
      "   👀 Views: 5,650\n",
      "   ⭐ Score: 0.5822\n",
      "\n",
      "5. 6 reasons Microsoft has become the go-to for machine learning\n",
      "   📝 ...\n",
      "   👤 Author: Unknown\n",
      "   🔗 URL: https://medium.com/datadriveninvestor/6-reasons-microsoft-has-become-the-go-to-for-machine-learning-e642864ef5f5\n",
      "   👀 Views: 15,000\n",
      "   ⭐ Score: 0.5808\n",
      "\n",
      "6. The Limitations of Machine Learning\n",
      "   📝 ...\n",
      "   👤 Author: Unknown\n",
      "   🔗 URL: https://towardsdatascience.com/the-limitations-of-machine-learning-a00e0c3040c6\n",
      "   👀 Views: 8,100\n",
      "   ⭐ Score: 0.5799\n",
      "\n",
      "7. Machine Learning vs Traditional Programming\n",
      "   📝 ...\n",
      "   👤 Author: Unknown\n",
      "   🔗 URL: https://towardsdatascience.com/machine-learning-vs-traditional-programming-c066e39b5b17\n",
      "   👀 Views: 7,460\n",
      "   ⭐ Score: 0.5789\n",
      "\n",
      "8. Getting rich quick with machine learning and stock market predictions\n",
      "   📝 ...\n",
      "   👤 Author: Unknown\n",
      "   🔗 URL: https://towardsdatascience.com/getting-rich-quick-with-machine-learning-and-stock-market-predictions-696802da94fe\n",
      "   👀 Views: 17,000\n",
      "   ⭐ Score: 0.5747\n",
      "\n",
      "9. Predicting Airbnb prices with machine learning and deep learning\n",
      "   📝 ...\n",
      "   👤 Author: Unknown\n",
      "   🔗 URL: https://towardsdatascience.com/predicting-airbnb-prices-with-machine-learning-and-deep-learning-f46d44afb8a6\n",
      "   👀 Views: 2,620\n",
      "   ⭐ Score: 0.5734\n",
      "\n",
      "10. Financial Machine Learning Part 1: Labels\n",
      "   📝 ...\n",
      "   👤 Author: Unknown\n",
      "   🔗 URL: https://towardsdatascience.com/financial-machine-learning-part-1-labels-7eeed050f32e\n",
      "   👀 Views: 6,640\n",
      "   ⭐ Score: 0.5727\n"
     ]
    }
   ],
   "source": [
    "# Try a search query\n",
    "query = \"machine learning tutorial\"\n",
    "results = engine.search(query)\n",
    "print_search_results(results, query)"
   ]
  },
  {
   "cell_type": "markdown",
   "id": "2771a3b4",
   "metadata": {},
   "source": [
    "## 5. Train RankNet Model"
   ]
  },
  {
   "cell_type": "code",
   "execution_count": null,
   "id": "2a3da3c2",
   "metadata": {},
   "outputs": [
    {
     "name": "stdout",
     "output_type": "stream",
     "text": [
      "Đang tạo dữ liệu huấn luyện...\n",
      "Cặp huấn luyện: 188, Cặp kiểm định: 48\n",
      "Epoch 10/1000 - Loss: 0.1711 - Val Loss: 0.1183\n",
      "Epoch 20/1000 - Loss: 0.0450 - Val Loss: 0.0291\n",
      "Epoch 30/1000 - Loss: 0.0195 - Val Loss: 0.0119\n",
      "Epoch 40/1000 - Loss: 0.0109 - Val Loss: 0.0063\n",
      "Epoch 50/1000 - Loss: 0.0070 - Val Loss: 0.0038\n",
      "Epoch 60/1000 - Loss: 0.0048 - Val Loss: 0.0025\n",
      "Epoch 70/1000 - Loss: 0.0034 - Val Loss: 0.0018\n",
      "Epoch 80/1000 - Loss: 0.0026 - Val Loss: 0.0013\n",
      "Epoch 90/1000 - Loss: 0.0017 - Val Loss: 0.0008\n",
      "Epoch 100/1000 - Loss: 0.0011 - Val Loss: 0.0005\n",
      "Epoch 110/1000 - Loss: 0.0007 - Val Loss: 0.0003\n",
      "Epoch 120/1000 - Loss: 0.0005 - Val Loss: 0.0002\n",
      "Epoch 130/1000 - Loss: 0.0004 - Val Loss: 0.0002\n",
      "Epoch 140/1000 - Loss: 0.0003 - Val Loss: 0.0001\n",
      "Epoch 150/1000 - Loss: 0.0002 - Val Loss: 0.0001\n",
      "Epoch 160/1000 - Loss: 0.0002 - Val Loss: 0.0001\n",
      "Epoch 170/1000 - Loss: 0.0002 - Val Loss: 0.0001\n",
      "Epoch 180/1000 - Loss: 0.0001 - Val Loss: 0.0001\n",
      "Epoch 190/1000 - Loss: 0.0001 - Val Loss: 0.0000\n",
      "Epoch 200/1000 - Loss: 0.0001 - Val Loss: 0.0000\n",
      "Epoch 210/1000 - Loss: 0.0001 - Val Loss: 0.0000\n",
      "Epoch 220/1000 - Loss: 0.0001 - Val Loss: 0.0000\n",
      "Epoch 230/1000 - Loss: 0.0001 - Val Loss: 0.0000\n",
      "Epoch 240/1000 - Loss: 0.0001 - Val Loss: 0.0000\n",
      "Epoch 250/1000 - Loss: 0.0001 - Val Loss: 0.0000\n",
      "Epoch 260/1000 - Loss: 0.0000 - Val Loss: 0.0000\n",
      "Epoch 270/1000 - Loss: 0.0000 - Val Loss: 0.0000\n",
      "Epoch 280/1000 - Loss: 0.0000 - Val Loss: 0.0000\n",
      "Epoch 290/1000 - Loss: 0.0000 - Val Loss: 0.0000\n",
      "Epoch 300/1000 - Loss: 0.0000 - Val Loss: 0.0000\n",
      "Epoch 310/1000 - Loss: 0.0000 - Val Loss: 0.0000\n",
      "Epoch 320/1000 - Loss: 0.0000 - Val Loss: 0.0000\n",
      "Epoch 330/1000 - Loss: 0.0000 - Val Loss: 0.0000\n",
      "Epoch 340/1000 - Loss: 0.0000 - Val Loss: 0.0000\n",
      "Epoch 350/1000 - Loss: 0.0000 - Val Loss: 0.0000\n",
      "Epoch 360/1000 - Loss: 0.0000 - Val Loss: 0.0000\n",
      "Epoch 370/1000 - Loss: 0.0000 - Val Loss: 0.0000\n",
      "Epoch 380/1000 - Loss: 0.0000 - Val Loss: 0.0000\n",
      "Epoch 390/1000 - Loss: 0.0000 - Val Loss: 0.0000\n",
      "Epoch 400/1000 - Loss: 0.0000 - Val Loss: 0.0000\n",
      "Epoch 410/1000 - Loss: 0.0000 - Val Loss: 0.0000\n",
      "Epoch 420/1000 - Loss: 0.0000 - Val Loss: 0.0000\n",
      "Epoch 430/1000 - Loss: 0.0000 - Val Loss: 0.0000\n",
      "Epoch 440/1000 - Loss: 0.0000 - Val Loss: 0.0000\n",
      "Epoch 450/1000 - Loss: 0.0000 - Val Loss: 0.0000\n",
      "Epoch 460/1000 - Loss: 0.0000 - Val Loss: 0.0000\n",
      "Epoch 470/1000 - Loss: 0.0000 - Val Loss: 0.0000\n",
      "Epoch 480/1000 - Loss: 0.0000 - Val Loss: 0.0000\n",
      "Epoch 490/1000 - Loss: 0.0000 - Val Loss: 0.0000\n",
      "Epoch 500/1000 - Loss: 0.0000 - Val Loss: 0.0000\n",
      "Epoch 510/1000 - Loss: 0.0000 - Val Loss: 0.0000\n",
      "Epoch 520/1000 - Loss: 0.0000 - Val Loss: 0.0000\n",
      "Epoch 530/1000 - Loss: 0.0000 - Val Loss: 0.0000\n",
      "Epoch 540/1000 - Loss: 0.0000 - Val Loss: 0.0000\n",
      "Epoch 550/1000 - Loss: 0.0000 - Val Loss: 0.0000\n",
      "Epoch 560/1000 - Loss: 0.0000 - Val Loss: 0.0000\n",
      "Epoch 570/1000 - Loss: 0.0000 - Val Loss: 0.0000\n",
      "Epoch 580/1000 - Loss: 0.0000 - Val Loss: 0.0000\n",
      "Epoch 590/1000 - Loss: 0.0000 - Val Loss: 0.0000\n",
      "Epoch 600/1000 - Loss: 0.0000 - Val Loss: 0.0000\n",
      "Epoch 610/1000 - Loss: 0.0000 - Val Loss: 0.0000\n",
      "Epoch 620/1000 - Loss: 0.0000 - Val Loss: 0.0000\n",
      "Epoch 630/1000 - Loss: 0.0000 - Val Loss: 0.0000\n",
      "Epoch 640/1000 - Loss: 0.0000 - Val Loss: 0.0000\n",
      "Epoch 650/1000 - Loss: 0.0000 - Val Loss: 0.0000\n",
      "Epoch 660/1000 - Loss: 0.0000 - Val Loss: 0.0000\n",
      "Epoch 670/1000 - Loss: 0.0000 - Val Loss: 0.0000\n",
      "Epoch 680/1000 - Loss: 0.0000 - Val Loss: 0.0000\n",
      "Epoch 690/1000 - Loss: 0.0000 - Val Loss: 0.0000\n",
      "Epoch 700/1000 - Loss: 0.0000 - Val Loss: 0.0000\n",
      "Epoch 710/1000 - Loss: 0.0000 - Val Loss: 0.0000\n",
      "Epoch 720/1000 - Loss: 0.0000 - Val Loss: 0.0000\n",
      "Epoch 730/1000 - Loss: 0.0000 - Val Loss: 0.0000\n",
      "Epoch 740/1000 - Loss: 0.0000 - Val Loss: 0.0000\n",
      "Epoch 750/1000 - Loss: 0.0000 - Val Loss: 0.0000\n",
      "Epoch 760/1000 - Loss: 0.0000 - Val Loss: 0.0000\n",
      "Epoch 770/1000 - Loss: 0.0000 - Val Loss: 0.0000\n",
      "Epoch 780/1000 - Loss: 0.0000 - Val Loss: 0.0000\n",
      "Epoch 790/1000 - Loss: 0.0000 - Val Loss: 0.0000\n",
      "Epoch 800/1000 - Loss: 0.0000 - Val Loss: 0.0000\n",
      "Epoch 810/1000 - Loss: 0.0000 - Val Loss: 0.0000\n",
      "Epoch 820/1000 - Loss: 0.0000 - Val Loss: 0.0000\n",
      "Epoch 830/1000 - Loss: 0.0000 - Val Loss: 0.0000\n",
      "Epoch 840/1000 - Loss: 0.0000 - Val Loss: 0.0000\n",
      "Epoch 850/1000 - Loss: 0.0000 - Val Loss: 0.0000\n",
      "Epoch 860/1000 - Loss: 0.0000 - Val Loss: 0.0000\n",
      "Epoch 870/1000 - Loss: 0.0000 - Val Loss: 0.0000\n",
      "Epoch 880/1000 - Loss: 0.0000 - Val Loss: 0.0000\n",
      "Epoch 890/1000 - Loss: 0.0000 - Val Loss: 0.0000\n",
      "Epoch 900/1000 - Loss: 0.0000 - Val Loss: 0.0000\n",
      "Epoch 910/1000 - Loss: 0.0000 - Val Loss: 0.0000\n",
      "Epoch 920/1000 - Loss: 0.0000 - Val Loss: 0.0000\n",
      "Epoch 930/1000 - Loss: 0.0000 - Val Loss: 0.0000\n",
      "Epoch 940/1000 - Loss: 0.0000 - Val Loss: 0.0000\n",
      "Epoch 950/1000 - Loss: 0.0000 - Val Loss: 0.0000\n",
      "Epoch 960/1000 - Loss: 0.0000 - Val Loss: 0.0000\n",
      "Epoch 970/1000 - Loss: 0.0000 - Val Loss: 0.0000\n",
      "Epoch 980/1000 - Loss: 0.0000 - Val Loss: 0.0000\n",
      "Epoch 990/1000 - Loss: 0.0000 - Val Loss: 0.0000\n",
      "Epoch 1000/1000 - Loss: 0.0000 - Val Loss: 0.0000\n",
      "Huấn luyện hoàn tất!\n"
     ]
    },
    {
     "data": {
      "image/png": "[encoded data removed]",
      "text/plain": [
       "<Figure size 1000x600 with 1 Axes>"
      ]
     },
     "metadata": {},
     "output_type": "display_data"
    }
   ],
   "source": [
    "# Train RankNet model\n",
    "history = engine.train(epochs=50, batch_size=32)\n",
    "\n",
    "# Plot training history\n",
    "plot_training_history(history)"
   ]
  },
  {
   "cell_type": "markdown",
   "id": "49458fd6",
   "metadata": {},
   "source": [
    "## 6. Search with RankNet"
   ]
  },
  {
   "cell_type": "code",
   "execution_count": 12,
   "id": "15977cbb",
   "metadata": {},
   "outputs": [
    {
     "name": "stdout",
     "output_type": "stream",
     "text": [
      "\n",
      "🔍 Search Results for: 'machine learning tutorial'\n",
      "======================================================================\n",
      "\n",
      "1. A Theory of Overfitting and Underfitting in Machine Learning\n",
      "   📝 ...\n",
      "   👤 Author: Unknown\n",
      "   🔗 URL: https://medium.com/datadriveninvestor/a-theory-of-overfitting-and-underfitting-in-machine-learning-1a5ff85a8756\n",
      "   👀 Views: 0\n",
      "   ⭐ Score: 2.8322\n",
      "\n",
      "2. David Duvenaud on the future of AI and machine learning in academia\n",
      "   📝 ...\n",
      "   👤 Author: Unknown\n",
      "   🔗 URL: https://towardsdatascience.com/david-duvenaud-on-the-future-of-ai-and-machine-learning-in-academia-7c3ae5aa290d\n",
      "   👀 Views: 10\n",
      "   ⭐ Score: 2.3397\n",
      "\n",
      "3. Automating Traffic Analysis with Machine Learning\n",
      "   📝 ...\n",
      "   👤 Author: Unknown\n",
      "   🔗 URL: https://towardsdatascience.com/automating-traffic-analysis-with-machine-learning-6165a3abecb3\n",
      "   👀 Views: 30\n",
      "   ⭐ Score: 2.1394\n",
      "\n",
      "4. Machine Learning — Diagnosing faults on vehicle trackers with a CNN\n",
      "   📝 ...\n",
      "   👤 Author: Unknown\n",
      "   🔗 URL: https://towardsdatascience.com/machine-learning-diagnosing-faults-on-vehicle-trackers-with-a-cnn-5b471a86b7c0\n",
      "   👀 Views: 80\n",
      "   ⭐ Score: 1.8103\n",
      "\n",
      "5. Constructivist Machine Learning\n",
      "   📝 ...\n",
      "   👤 Author: Unknown\n",
      "   🔗 URL: https://towardsdatascience.com/constructivist-machine-learning-7c2192883c2d\n",
      "   👀 Views: 130\n",
      "   ⭐ Score: 1.7606\n",
      "\n",
      "6. Machine Learning Cheat Sheet — Unsupervised Learning\n",
      "   📝 ...\n",
      "   👤 Author: Unknown\n",
      "   🔗 URL: https://towardsdatascience.com/machine-learning-cheat-sheet-unsupervised-learning-d954a9247fbe\n",
      "   👀 Views: 390\n",
      "   ⭐ Score: 1.7517\n",
      "\n",
      "7. Exercise Classification with Machine Learning (Part II)\n",
      "   📝 ...\n",
      "   👤 Author: Unknown\n",
      "   🔗 URL: https://towardsdatascience.com/exercise-classification-with-machine-learning-part-ii-d60d1928f31d\n",
      "   👀 Views: 190\n",
      "   ⭐ Score: 1.5856\n",
      "\n",
      "8. Machine Learning (kmeans clustering) in SparkML vs AWS SageMaker — My Two Cents\n",
      "   📝 ...\n",
      "   👤 Author: Unknown\n",
      "   🔗 URL: https://towardsdatascience.com/machine-learning-kmeans-clustering-in-sparkml-vs-aws-sagemaker-my-two-cents-3310693c00bb\n",
      "   👀 Views: 190\n",
      "   ⭐ Score: 1.5278\n",
      "\n",
      "9. <strong class=\"markup--strong markup--h3-strong\">The Influence Of Data Scaling On Machine Learning Algorithms</strong>\n",
      "   📝 ...\n",
      "   👤 Author: Unknown\n",
      "   🔗 URL: https://towardsdatascience.com/the-influence-of-data-scaling-on-machine-learning-algorithms-fbee9181d497\n",
      "   👀 Views: 210\n",
      "   ⭐ Score: 1.5147\n",
      "\n",
      "10. Regularization for Machine Learning Models\n",
      "   📝 ...\n",
      "   👤 Author: Unknown\n",
      "   🔗 URL: https://towardsdatascience.com/regularization-for-machine-learning-models-9173c2e90449\n",
      "   👀 Views: 260\n",
      "   ⭐ Score: 1.5110\n"
     ]
    }
   ],
   "source": [
    "# Try the same query again\n",
    "results_ranknet = engine.search(query)\n",
    "print_search_results(results_ranknet, query)"
   ]
  },
  {
   "cell_type": "markdown",
   "id": "30e21e7d",
   "metadata": {},
   "source": [
    "## 7. Compare Results"
   ]
  },
  {
   "cell_type": "code",
   "execution_count": 13,
   "id": "2af7ac3e",
   "metadata": {},
   "outputs": [
    {
     "name": "stdout",
     "output_type": "stream",
     "text": [
      "===== Basic Search Results =====\n",
      "1. Humanizing Machine Learning (Score: 0.6052)\n",
      "2. 12 Things I Learned During My First Year as a Machine Learning Engineer (Score: 0.5906)\n",
      "3. Fundamental Techniques of Feature Engineering for Machine Learning (Score: 0.5879)\n",
      "4. Machine learning interpretability techniques (Score: 0.5822)\n",
      "5. 6 reasons Microsoft has become the go-to for machine learning (Score: 0.5808)\n",
      "\n",
      "===== RankNet Search Results =====\n",
      "1. A Theory of Overfitting and Underfitting in Machine Learning (Score: 2.8322)\n",
      "2. David Duvenaud on the future of AI and machine learning in academia (Score: 2.3397)\n",
      "3. Automating Traffic Analysis with Machine Learning (Score: 2.1394)\n",
      "4. Machine Learning — Diagnosing faults on vehicle trackers with a CNN (Score: 1.8103)\n",
      "5. Constructivist Machine Learning (Score: 1.7606)\n"
     ]
    }
   ],
   "source": [
    "# Disable RankNet to compare with basic search\n",
    "engine_basic = SearchEngine(use_ranknet=False)\n",
    "engine_basic.documents = engine.documents  # Share same documents\n",
    "engine_basic.document_index = engine.document_index\n",
    "engine_basic.corpus_stats = engine.corpus_stats\n",
    "\n",
    "basic_results = engine_basic.search(query)\n",
    "\n",
    "# Print comparison\n",
    "print(\"===== Basic Search Results =====\")\n",
    "for i, res in enumerate(basic_results[:5]):\n",
    "    print(f\"{i+1}. {res['title']} (Score: {res['score']:.4f})\")\n",
    "\n",
    "print(\"\\n===== RankNet Search Results =====\")\n",
    "for i, res in enumerate(results_ranknet[:5]):\n",
    "    print(f\"{i+1}. {res['title']} (Score: {res['score']:.4f})\")"
   ]
  },
  {
   "cell_type": "markdown",
   "id": "e7e0e45f",
   "metadata": {},
   "source": [
    "## 8. Evaluate Performance"
   ]
  },
  {
   "cell_type": "code",
   "execution_count": 14,
   "id": "183d0dd3",
   "metadata": {},
   "outputs": [
    {
     "name": "stdout",
     "output_type": "stream",
     "text": [
      "NDCG@10: 0.0000\n",
      "Number of queries: 20\n"
     ]
    }
   ],
   "source": [
    "# Evaluate search performance\n",
    "metrics = engine.evaluate()\n",
    "print(f\"NDCG@10: {metrics['ndcg@10']:.4f}\")\n",
    "print(f\"Number of queries: {metrics['num_queries']}\")"
   ]
  },
  {
   "cell_type": "markdown",
   "id": "53511091",
   "metadata": {},
   "source": [
    "## 9. Save Model"
   ]
  },
  {
   "cell_type": "code",
   "execution_count": 15,
   "id": "014bfafb",
   "metadata": {},
   "outputs": [
    {
     "name": "stdout",
     "output_type": "stream",
     "text": [
      "Đã lưu công cụ tìm kiếm vào data/models/\n",
      "Model saved to data/models/\n"
     ]
    }
   ],
   "source": [
    "# Save the trained model\n",
    "engine.save(\"data/models/\")\n",
    "print(\"Model saved to data/models/\")"
   ]
  },
  {
   "cell_type": "markdown",
   "id": "dd92c013",
   "metadata": {},
   "source": [
    "## 10. Test Different Queries"
   ]
  },
  {
   "cell_type": "code",
   "execution_count": 16,
   "id": "c262b43e",
   "metadata": {},
   "outputs": [
    {
     "name": "stdout",
     "output_type": "stream",
     "text": [
      "\n",
      "\n",
      "Query: python programming\n",
      "======================================================================\n",
      "\n",
      "1. <strong class=\"markup--strong markup--h3-strong\"><em class=\"markup--em markup--h3-em\">Why is Python Programming a perfect fit for Big Data?</em></strong>\n",
      "   📝 ...\n",
      "   👤 Author: Unknown\n",
      "   🔗 URL: https://towardsdatascience.com/why-is-python-programming-a-perfect-fit-for-big-data-5ac54ee8f95e\n",
      "   👀 Views: 1,150\n",
      "   ⭐ Score: 7.4410\n",
      "\n",
      "2. Why you should learn programming even if you are an artist\n",
      "   📝 ...\n",
      "   👤 Author: Unknown\n",
      "   🔗 URL: https://medium.com/datadriveninvestor/why-you-should-learn-programming-even-if-you-are-an-artist-6eaf16a374cf\n",
      "   👀 Views: 310\n",
      "   ⭐ Score: 2.1885\n",
      "\n",
      "3. Top 7 Dying Programming Languages to Avoid Studying in 2019 –2020\n",
      "   📝 ...\n",
      "   👤 Author: Unknown\n",
      "   🔗 URL: https://medium.com/datadriveninvestor/top-7-dying-programming-languages-to-avoid-studying-in-2019-2020-a4a660f4de0e\n",
      "   👀 Views: 400\n",
      "   ⭐ Score: 2.1076\n",
      "\n",
      "\n",
      "Query: deep learning neural networks\n",
      "======================================================================\n",
      "\n",
      "1. PyTorch Deep Learning Nanodegree: Convolutional Neural Networks\n",
      "   📝 ...\n",
      "   👤 Author: Unknown\n",
      "   🔗 URL: https://medium.com/datadriveninvestor/pytorch-deep-learning-nano-degree-convolutional-neural-networks-b92ee1969bb7\n",
      "   👀 Views: 1,660\n",
      "   ⭐ Score: 7.0876\n",
      "\n",
      "2. Geometric deep learning — Convolutional Neural Networks on Graphs and Manifolds\n",
      "   📝 ...\n",
      "   👤 Author: Unknown\n",
      "   🔗 URL: https://towardsdatascience.com/geometric-deep-learning-convolutional-neural-networks-on-graphs-and-manifolds-c6908d95b975\n",
      "   👀 Views: 1,050\n",
      "   ⭐ Score: 7.0767\n",
      "\n",
      "3. Connectivity Patterns in Deep Neural Networks\n",
      "   📝 ...\n",
      "   👤 Author: Unknown\n",
      "   🔗 URL: https://towardsdatascience.com/connectivity-patterns-in-deep-neural-networks-787c90316a6d\n",
      "   👀 Views: 360\n",
      "   ⭐ Score: 5.1737\n",
      "\n",
      "\n",
      "Query: data science tutorial\n",
      "======================================================================\n",
      "\n",
      "1. Pump it up: predict water pump condition using data science\n",
      "   📝 ...\n",
      "   👤 Author: Unknown\n",
      "   🔗 URL: https://towardsdatascience.com/pump-it-up-predict-water-pump-condition-using-data-science-2839d26638b8\n",
      "   👀 Views: 20\n",
      "   ⭐ Score: 2.3328\n",
      "\n",
      "2. Is it Worth Pursuing a Career in Data Science & Artificial Intelligence — Data Driven Investor\n",
      "   📝 ...\n",
      "   👤 Author: Unknown\n",
      "   🔗 URL: https://medium.com/datadriveninvestor/is-it-worth-pursuing-a-career-in-data-science-artificial-intelligence-data-driven-investor-823242e1a51d\n",
      "   👀 Views: 60\n",
      "   ⭐ Score: 2.2887\n",
      "\n",
      "3. Ecom Data Series: What is data science for ecommerce?\n",
      "   📝 ...\n",
      "   👤 Author: Unknown\n",
      "   🔗 URL: https://towardsdatascience.com/ecom-data-cooler-series-what-is-data-science-f803d1e07cb4\n",
      "   👀 Views: 120\n",
      "   ⭐ Score: 2.1941\n"
     ]
    }
   ],
   "source": [
    "# Test different queries\n",
    "test_queries = [\n",
    "    \"python programming\",\n",
    "    \"deep learning neural networks\",\n",
    "    \"data science tutorial\"\n",
    "]\n",
    "\n",
    "for query in test_queries:\n",
    "    print(f\"\\n\\nQuery: {query}\")\n",
    "    results = engine.search(query, top_k=3)\n",
    "    print_search_results(results)"
   ]
  }
 ],
 "metadata": {
  "kernelspec": {
   "display_name": "paddleocr-env",
   "language": "python",
   "name": "python3"
  },
  "language_info": {
   "codemirror_mode": {
    "name": "ipython",
    "version": 3
   },
   "file_extension": ".py",
   "mimetype": "text/x-python",
   "name": "python",
   "nbconvert_exporter": "python",
   "pygments_lexer": "ipython3",
   "version": "3.11.11"
  }
 },
 "nbformat": 4,
 "nbformat_minor": 5
}
