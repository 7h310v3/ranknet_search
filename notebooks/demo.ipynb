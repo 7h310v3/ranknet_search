{
 "cells": [
  {
   "cell_type": "markdown",
   "id": "c16d6634",
   "metadata": {},
   "source": [
    "# RankNet Search Demo\n",
    "\n",
    "This notebook demonstrates the RankNet search engine capabilities, from initialization to searching and evaluation."
   ]
  },
  {
   "cell_type": "code",
   "execution_count": null,
   "id": "6d4e36d3",
   "metadata": {},
   "outputs": [],
   "source": [
    "# Add parent directory to path\n",
    "import sys\n",
    "import os\n",
    "sys.path.append(os.path.dirname(os.path.dirname(os.path.abspath('.'))))\n",
    "\n",
    "import numpy as np\n",
    "import pandas as pd\n",
    "import matplotlib.pyplot as plt\n",
    "from datetime import datetime\n",
    "\n",
    "# Import our search engine\n",
    "from src.engine import SearchEngine\n",
    "from src.model import Document, Query\n",
    "from src.utils import print_search_results, plot_training_history, plot_feature_importance"
   ]
  },
  {
   "cell_type": "markdown",
   "id": "7748304d",
   "metadata": {},
   "source": [
    "## 1. Initialize Search Engine"
   ]
  },
  {
   "cell_type": "code",
   "execution_count": null,
   "id": "ae5fd6cd",
   "metadata": {},
   "outputs": [],
   "source": [
    "# Initialize search engine\n",
    "engine = SearchEngine(use_ranknet=True)\n",
    "print(\"Search engine initialized!\")"
   ]
  },
  {
   "cell_type": "markdown",
   "id": "53546d7b",
   "metadata": {},
   "source": [
    "## 2. Load or Create Data"
   ]
  },
  {
   "cell_type": "code",
   "execution_count": null,
   "id": "c71388d6",
   "metadata": {},
   "outputs": [],
   "source": [
    "# Option 1: Create sample data\n",
    "# engine.create_sample_data(n_docs=200)\n",
    "\n",
    "# Option 2: Load real data (uncomment to use)\n",
    "engine.load_data('data/raw/medium_data.csv')\n",
    "\n",
    "print(f\"Total documents: {len(engine.documents)}\")"
   ]
  },
  {
   "cell_type": "markdown",
   "id": "db11edf7",
   "metadata": {},
   "source": [
    "## 3. Explore Documents"
   ]
  },
  {
   "cell_type": "code",
   "execution_count": null,
   "id": "9dfb7adc",
   "metadata": {},
   "outputs": [],
   "source": [
    "# Show first 5 documents\n",
    "for i, (doc_id, doc) in enumerate(list(engine.documents.items())[:5]):\n",
    "    print(f\"Document {i+1}:\")\n",
    "    print(f\"  Title: {doc.title}\")\n",
    "    print(f\"  Content: {doc.content[:100]}...\")\n",
    "    print(f\"  Author: {doc.author}\")\n",
    "    print(f\"  Tags: {doc.tags}\")\n",
    "    print(\"\")"
   ]
  },
  {
   "cell_type": "markdown",
   "id": "afb3c0f1",
   "metadata": {},
   "source": [
    "## 4. Basic Search (Before Training)"
   ]
  },
  {
   "cell_type": "code",
   "execution_count": null,
   "id": "007fe644",
   "metadata": {},
   "outputs": [],
   "source": [
    "# Try a search query\n",
    "query = \"machine learning tutorial\"\n",
    "results = engine.search(query)\n",
    "print_search_results(results, query)"
   ]
  },
  {
   "cell_type": "markdown",
   "id": "2771a3b4",
   "metadata": {},
   "source": [
    "## 5. Train RankNet Model"
   ]
  },
  {
   "cell_type": "code",
   "execution_count": null,
   "id": "2a3da3c2",
   "metadata": {},
   "outputs": [],
   "source": [
    "# Train RankNet model\n",
    "history = engine.train(epochs=30, batch_size=32)\n",
    "\n",
    "# Plot training history\n",
    "plot_training_history(history)"
   ]
  },
  {
   "cell_type": "markdown",
   "id": "49458fd6",
   "metadata": {},
   "source": [
    "## 6. Search with RankNet"
   ]
  },
  {
   "cell_type": "code",
   "execution_count": null,
   "id": "15977cbb",
   "metadata": {},
   "outputs": [],
   "source": [
    "# Try the same query again\n",
    "results_ranknet = engine.search(query)\n",
    "print_search_results(results_ranknet, query)"
   ]
  },
  {
   "cell_type": "markdown",
   "id": "30e21e7d",
   "metadata": {},
   "source": [
    "## 7. Compare Results"
   ]
  },
  {
   "cell_type": "code",
   "execution_count": null,
   "id": "2af7ac3e",
   "metadata": {},
   "outputs": [],
   "source": [
    "# Disable RankNet to compare with basic search\n",
    "engine_basic = SearchEngine(use_ranknet=False)\n",
    "engine_basic.documents = engine.documents  # Share same documents\n",
    "engine_basic.document_index = engine.document_index\n",
    "engine_basic.corpus_stats = engine.corpus_stats\n",
    "\n",
    "basic_results = engine_basic.search(query)\n",
    "\n",
    "# Print comparison\n",
    "print(\"===== Basic Search Results =====\")\n",
    "for i, res in enumerate(basic_results[:5]):\n",
    "    print(f\"{i+1}. {res['title']} (Score: {res['score']:.4f})\")\n",
    "\n",
    "print(\"\\n===== RankNet Search Results =====\")\n",
    "for i, res in enumerate(results_ranknet[:5]):\n",
    "    print(f\"{i+1}. {res['title']} (Score: {res['score']:.4f})\")"
   ]
  },
  {
   "cell_type": "markdown",
   "id": "e7e0e45f",
   "metadata": {},
   "source": [
    "## 8. Evaluate Performance"
   ]
  },
  {
   "cell_type": "code",
   "execution_count": null,
   "id": "183d0dd3",
   "metadata": {},
   "outputs": [],
   "source": [
    "# Evaluate search performance\n",
    "metrics = engine.evaluate()\n",
    "print(f\"NDCG@10: {metrics['ndcg@10']:.4f}\")\n",
    "print(f\"Number of queries: {metrics['num_queries']}\")"
   ]
  },
  {
   "cell_type": "markdown",
   "id": "53511091",
   "metadata": {},
   "source": [
    "## 9. Save Model"
   ]
  },
  {
   "cell_type": "code",
   "execution_count": null,
   "id": "014bfafb",
   "metadata": {},
   "outputs": [],
   "source": [
    "# Save the trained model\n",
    "engine.save(\"data/models/\")\n",
    "print(\"Model saved to data/models/\")"
   ]
  },
  {
   "cell_type": "markdown",
   "id": "dd92c013",
   "metadata": {},
   "source": [
    "## 10. Test Different Queries"
   ]
  },
  {
   "cell_type": "code",
   "execution_count": null,
   "id": "c262b43e",
   "metadata": {},
   "outputs": [],
   "source": [
    "# Test different queries\n",
    "test_queries = [\n",
    "    \"python programming\",\n",
    "    \"deep learning neural networks\",\n",
    "    \"data science tutorial\"\n",
    "]\n",
    "\n",
    "for query in test_queries:\n",
    "    print(f\"\\n\\nQuery: {query}\")\n",
    "    results = engine.search(query, top_k=3)\n",
    "    print_search_results(results)"
   ]
  }
 ],
 "metadata": {
  "language_info": {
   "name": "python"
  }
 },
 "nbformat": 4,
 "nbformat_minor": 5
}
